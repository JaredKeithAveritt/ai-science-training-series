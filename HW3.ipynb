{
  "nbformat": 4,
  "nbformat_minor": 0,
  "metadata": {
    "colab": {
      "provenance": [],
      "collapsed_sections": [],
      "authorship_tag": "ABX9TyNsJrGD6ZPrufzPGhj8ZXLo",
      "include_colab_link": true
    },
    "kernelspec": {
      "name": "python3",
      "display_name": "Python 3"
    },
    "language_info": {
      "name": "python"
    }
  },
  "cells": [
    {
      "cell_type": "markdown",
      "metadata": {
        "id": "view-in-github",
        "colab_type": "text"
      },
      "source": [
        "<a href=\"https://colab.research.google.com/github/jaredaveritt/ai-science-training-series/blob/main/HW3.ipynb\" target=\"_parent\"><img src=\"https://colab.research.google.com/assets/colab-badge.svg\" alt=\"Open In Colab\"/></a>"
      ]
    },
    {
      "cell_type": "code",
      "source": [
        "%matplotlib inline\n",
        "\n",
        "import tensorflow as tf\n",
        "\n",
        "import numpy\n",
        "import matplotlib.pyplot as plt\n",
        "import time"
      ],
      "metadata": {
        "id": "_VxLlNvp68O9"
      },
      "execution_count": 2,
      "outputs": []
    },
    {
      "cell_type": "code",
      "execution_count": 3,
      "metadata": {
        "id": "YVcz8b8w547f"
      },
      "outputs": [],
      "source": [
        "class CIFAR10Classifier(tf.keras.models.Model):\n",
        "\n",
        "    def __init__(self, activation=tf.nn.tanh):\n",
        "        tf.keras.models.Model.__init__(self)\n",
        "\n",
        "        self.conv_1 = tf.keras.layers.Conv2D(32, [3, 3], activation='relu', kernel_initializer='he_uniform', padding='same')\n",
        "        self.conv_2 = tf.keras.layers.Conv2D(32, [3, 3], activation='relu', kernel_initializer='he_uniform', padding='same')\n",
        "        self.pool_3 = tf.keras.layers.MaxPooling2D(pool_size=(2, 2))\n",
        "        self.drop_4 = tf.keras.layers.Dropout(0.2)\n",
        "        self.conv_5 = tf.keras.layers.Conv2D(64, [3, 3], activation='relu', kernel_initializer='he_uniform', padding='same')\n",
        "        self.conv_6 = tf.keras.layers.Conv2D(64, [3, 3], activation='relu', kernel_initializer='he_uniform', padding='same')\n",
        "        self.pool_7 = tf.keras.layers.MaxPooling2D(pool_size=(2, 2))\n",
        "        self.drop_8 = tf.keras.layers.Dropout(0.2)\n",
        "        self.conv_9 = tf.keras.layers.Conv2D(128, [3, 3], activation='relu', kernel_initializer='he_uniform', padding='same')\n",
        "        self.conv_10 = tf.keras.layers.Conv2D(128, [3, 3], activation='relu', kernel_initializer='he_uniform', padding='same')\n",
        "        self.pool_11 = tf.keras.layers.MaxPooling2D(pool_size=(2, 2))\n",
        "        self.drop_12 = tf.keras.layers.Dropout(0.2)\n",
        "        self.dense_13 = tf.keras.layers.Dense(128, activation='relu')\n",
        "        self.drop_14 = tf.keras.layers.Dropout(0.2)\n",
        "        self.dense_15 = tf.keras.layers.Dense(10, activation='softmax')\n",
        "        \n",
        "\n",
        "    def call(self, inputs):\n",
        "\n",
        "        x = self.conv_1(inputs)\n",
        "        x = self.conv_2(x)\n",
        "        x = self.pool_3(x)\n",
        "        x = self.drop_4(x)\n",
        "        \n",
        "        x = self.conv_5(x)\n",
        "        x = self.conv_6(x)\n",
        "        x = self.pool_7(x)\n",
        "        x = self.drop_8(x)\n",
        "        \n",
        "        \n",
        "        x = self.conv_9(x)\n",
        "        x = self.conv_10(x)\n",
        "        x = self.pool_11(x)\n",
        "        x = self.drop_12(x)\n",
        "        \n",
        "        \n",
        "        x = tf.keras.layers.Flatten()(x)\n",
        "        x = self.dense_13(x)\n",
        "        x = self.drop_14(x)\n",
        "        x = self.dense_15(x)\n",
        "\n",
        "        return x"
      ]
    },
    {
      "cell_type": "code",
      "source": [
        "def train_network_concise(_batch_size, _n_training_epochs, _lr):\n",
        "\n",
        "    cnn_model = CIFAR10Classifier()\n",
        "\n",
        "    cnn_model.compile(loss=\"sparse_categorical_crossentropy\", optimizer=\"adam\", metrics=['accuracy'])\n",
        "    \n",
        "    history = cnn_model.fit(x_train, y_train, batch_size=_batch_size, epochs=_n_training_epochs)\n",
        "    return history, cnn_model"
      ],
      "metadata": {
        "id": "GtObqLZD7GyT"
      },
      "execution_count": 5,
      "outputs": []
    },
    {
      "cell_type": "code",
      "source": [
        "(x_train, y_train), (x_test, y_test) = tf.keras.datasets.cifar10.load_data()\n",
        "x_train = x_train.astype(numpy.float32)\n",
        "x_test  = x_test.astype(numpy.float32)\n",
        "\n",
        "x_train /= 255.\n",
        "x_test  /= 255.\n",
        "\n",
        "y_train = y_train.astype(numpy.int32)\n",
        "y_test  = y_test.astype(numpy.int32)"
      ],
      "metadata": {
        "colab": {
          "base_uri": "https://localhost:8080/"
        },
        "id": "_6T-K74r64I6",
        "outputId": "237a269b-df30-4211-dbf7-6001154e3af6"
      },
      "execution_count": 4,
      "outputs": [
        {
          "output_type": "stream",
          "name": "stdout",
          "text": [
            "Downloading data from https://www.cs.toronto.edu/~kriz/cifar-10-python.tar.gz\n",
            "170498071/170498071 [==============================] - 4s 0us/step\n"
          ]
        }
      ]
    },
    {
      "cell_type": "code",
      "source": [
        "batch_size = 64\n",
        "epochs = 10\n",
        "lr = .01\n",
        "history, cnn_model = train_network_concise(batch_size, epochs, lr)"
      ],
      "metadata": {
        "colab": {
          "base_uri": "https://localhost:8080/"
        },
        "id": "XuCjNStZ7B35",
        "outputId": "5286d6e1-dda4-4d4d-f615-db974a8a80b0"
      },
      "execution_count": 6,
      "outputs": [
        {
          "output_type": "stream",
          "name": "stdout",
          "text": [
            "Epoch 1/10\n",
            "782/782 [==============================] - 403s 514ms/step - loss: 1.6386 - accuracy: 0.3985\n",
            "Epoch 2/10\n",
            "782/782 [==============================] - 386s 493ms/step - loss: 1.1751 - accuracy: 0.5813\n",
            "Epoch 3/10\n",
            "782/782 [==============================] - 385s 493ms/step - loss: 0.9771 - accuracy: 0.6560\n",
            "Epoch 4/10\n",
            "782/782 [==============================] - 385s 492ms/step - loss: 0.8501 - accuracy: 0.7020\n",
            "Epoch 5/10\n",
            "782/782 [==============================] - 385s 492ms/step - loss: 0.7644 - accuracy: 0.7311\n",
            "Epoch 6/10\n",
            "782/782 [==============================] - 385s 492ms/step - loss: 0.6995 - accuracy: 0.7545\n",
            "Epoch 7/10\n",
            "782/782 [==============================] - 385s 492ms/step - loss: 0.6510 - accuracy: 0.7730\n",
            "Epoch 8/10\n",
            "782/782 [==============================] - 384s 491ms/step - loss: 0.6062 - accuracy: 0.7888\n",
            "Epoch 9/10\n",
            "782/782 [==============================] - 384s 491ms/step - loss: 0.5738 - accuracy: 0.7990\n",
            "Epoch 10/10\n",
            "782/782 [==============================] - 384s 491ms/step - loss: 0.5440 - accuracy: 0.8087\n"
          ]
        }
      ]
    },
    {
      "cell_type": "code",
      "source": [
        "plt.figure(figsize=(5,3))\n",
        "plt.plot(history.epoch,history.history['loss'])\n",
        "plt.title('loss')\n",
        "\n",
        "plt.figure(figsize=(5,3))\n",
        "plt.plot(history.epoch,history.history['accuracy'])\n",
        "plt.title('accuracy');\n",
        "\n",
        "%%time\n",
        "x_test_reshaped = numpy.expand_dims(x_test, -1)\n",
        "scores = cnn_model.evaluate(x_test, y_test, verbose=2)\n",
        "print(\"%s: %.2f%%\" % (cnn_model.metrics_names[1], scores[1]*100))"
      ],
      "metadata": {
        "colab": {
          "base_uri": "https://localhost:8080/",
          "height": 454
        },
        "id": "BmpFeIGN7JRe",
        "outputId": "29191c29-1d94-40ca-db96-5610549773aa"
      },
      "execution_count": 7,
      "outputs": [
        {
          "output_type": "stream",
          "name": "stderr",
          "text": [
            "UsageError: Line magic function `%%time` not found.\n"
          ]
        },
        {
          "output_type": "display_data",
          "data": {
            "text/plain": [
              "<Figure size 360x216 with 1 Axes>"
            ],
            "image/png": "[encoded data removed]"
          },
          "metadata": {
            "needs_background": "light"
          }
        },
        {
          "output_type": "display_data",
          "data": {
            "text/plain": [
              "<Figure size 360x216 with 1 Axes>"
            ],
            "image/png": "[encoded data removed]"
          },
          "metadata": {
            "needs_background": "light"
          }
        }
      ]
    },
    {
      "cell_type": "markdown",
      "source": [
        "Classification accuracy increased to 80.1%"
      ],
      "metadata": {
        "id": "H2XydaFF7URc"
      }
    },
    {
      "cell_type": "code",
      "source": [],
      "metadata": {
        "id": "qR9Ewlwu7jXc"
      },
      "execution_count": null,
      "outputs": []
    }
  ]
}